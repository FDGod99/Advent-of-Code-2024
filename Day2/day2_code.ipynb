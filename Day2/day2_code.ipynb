{
 "cells": [
  {
   "cell_type": "code",
   "execution_count": 13,
   "metadata": {},
   "outputs": [],
   "source": [
    "input_list = []\n",
    "\n",
    "# Read the file\n",
    "with open('/Users/fdgod/Desktop/FDGod/AdventOfCode2024/Day2/day2_input.txt', 'r') as file:\n",
    "    for line in file:\n",
    "        input_list.append(line.split())"
   ]
  },
  {
   "cell_type": "code",
   "execution_count": 14,
   "metadata": {},
   "outputs": [],
   "source": [
    "for i in range(len(input_list)):\n",
    "    for j in range(len(input_list[i])):\n",
    "        input_list[i][j] = int(input_list[i][j])"
   ]
  },
  {
   "cell_type": "code",
   "execution_count": 20,
   "metadata": {},
   "outputs": [],
   "source": [
    "def is_it_safe(list):\n",
    "    flag_for_order = 0\n",
    "    if sorted(list) == list:\n",
    "        flag_for_order = 1\n",
    "    elif sorted(list, reverse=True) == list:\n",
    "        flag_for_order = 1\n",
    "    else:\n",
    "        return False\n",
    "    if flag_for_order == 1:\n",
    "        flag_for_difference = True\n",
    "        for j in range(len(list)-1):\n",
    "            if abs(list[j]-list[j+1]) == 0 or abs(list[j]-list[j+1])  > 3:\n",
    "                flag_for_difference = False\n",
    "                break\n",
    "        return flag_for_difference\n",
    "\n"
   ]
  },
  {
   "cell_type": "code",
   "execution_count": 26,
   "metadata": {},
   "outputs": [
    {
     "data": {
      "text/plain": [
       "680"
      ]
     },
     "execution_count": 26,
     "metadata": {},
     "output_type": "execute_result"
    }
   ],
   "source": [
    "counter = 0\n",
    "for i in range(len(input_list)):\n",
    "    if is_it_safe(input_list[i]):\n",
    "        counter += 1\n",
    "counter"
   ]
  },
  {
   "cell_type": "code",
   "execution_count": 27,
   "metadata": {},
   "outputs": [],
   "source": [
    "def lists_with_one_removed(input_list):\n",
    "    return [input_list[:i] + input_list[i+1:] for i in range(len(input_list))]\n",
    "\n"
   ]
  },
  {
   "cell_type": "code",
   "execution_count": 29,
   "metadata": {},
   "outputs": [
    {
     "data": {
      "text/plain": [
       "710"
      ]
     },
     "execution_count": 29,
     "metadata": {},
     "output_type": "execute_result"
    }
   ],
   "source": [
    "counter2 = 0\n",
    "for i in input_list:\n",
    "    new_lists = lists_with_one_removed(i)\n",
    "    for j in new_lists:\n",
    "        if is_it_safe(j):\n",
    "            counter2 += 1\n",
    "            break\n",
    "counter2\n"
   ]
  },
  {
   "cell_type": "code",
   "execution_count": null,
   "metadata": {},
   "outputs": [],
   "source": []
  }
 ],
 "metadata": {
  "kernelspec": {
   "display_name": "phd",
   "language": "python",
   "name": "python3"
  },
  "language_info": {
   "codemirror_mode": {
    "name": "ipython",
    "version": 3
   },
   "file_extension": ".py",
   "mimetype": "text/x-python",
   "name": "python",
   "nbconvert_exporter": "python",
   "pygments_lexer": "ipython3",
   "version": "3.12.7"
  }
 },
 "nbformat": 4,
 "nbformat_minor": 2
}
